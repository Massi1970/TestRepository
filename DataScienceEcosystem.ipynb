{
 "cells": [
  {
   "cell_type": "markdown",
   "id": "cbe97480-d0a3-46a2-8248-c724abec7a54",
   "metadata": {},
   "source": [
    "# Data Science Tools and Ecosystem"
   ]
  },
  {
   "cell_type": "markdown",
   "id": "c55d9dc2-ab59-48e5-a18d-bef5dd2534a5",
   "metadata": {},
   "source": [
    "In this notebook, Data Science Tools and Ecosystem are summarized."
   ]
  },
  {
   "cell_type": "markdown",
   "id": "3405aa98-1c3a-437c-8c35-8a39c3ec5862",
   "metadata": {},
   "source": [
    "**Objectives:**\n",
    "- List popular languages\n",
    "- List libraries\n",
    "- Learn development environments\n",
    "- Learn machine learning models"
   ]
  },
  {
   "cell_type": "markdown",
   "id": "c0abfa04-6ac9-41c9-bebf-cc85b1941d21",
   "metadata": {},
   "source": [
    "Some of the popular languages that Data Scientists use are:\n",
    "1. Python\r",
    "2. \n",
    "R3. \r\n",
    "Juli4. a\r\n",
    "Sca5. la\r\n",
    "SQL"
   ]
  },
  {
   "cell_type": "markdown",
   "id": "11ab4dca-79e1-4f55-b032-8badf3bfc1ba",
   "metadata": {},
   "source": [
    "Some of the commonly used libraries used by Data Scientists include:\n",
    "1. Pandas\n",
    "2. NumPy\n",
    "3. Seaborn\n",
    "4. Keras"
   ]
  },
  {
   "cell_type": "markdown",
   "id": "62dc0780-16f0-458b-bbb2-7e9b40766066",
   "metadata": {},
   "source": [
    "|Data Science Tools|\n",
    "|------|\n",
    "|JupyterLab|\n",
    "|Visual Studio|\n",
    "|Spyder|\n",
    "|Google Colab|"
   ]
  },
  {
   "cell_type": "markdown",
   "id": "abe42ec8-a88c-4b5d-8f9c-289855ab68db",
   "metadata": {},
   "source": [
    "### Below are a few examples of evaluating arithmetic expressions in Python"
   ]
  },
  {
   "cell_type": "code",
   "execution_count": 2,
   "id": "ac3d3c65-8eba-4608-936e-bd6a3813d9c5",
   "metadata": {},
   "outputs": [
    {
     "data": {
      "text/plain": [
       "17"
      ]
     },
     "execution_count": 2,
     "metadata": {},
     "output_type": "execute_result"
    }
   ],
   "source": [
    "# This a simple arithmetic expression to multiply then add integers\n",
    "(3*4)+5"
   ]
  },
  {
   "cell_type": "code",
   "execution_count": 3,
   "id": "bc15018f-522a-4883-ae40-6d14be84314b",
   "metadata": {},
   "outputs": [
    {
     "data": {
      "text/plain": [
       "3.3333333333333335"
      ]
     },
     "execution_count": 3,
     "metadata": {},
     "output_type": "execute_result"
    }
   ],
   "source": [
    "#  This will convert 200 minutes to hours by dividing by 60\n",
    "200/60"
   ]
  },
  {
   "cell_type": "markdown",
   "id": "e6a2b1c8-1b22-4500-8dce-6cda759b994e",
   "metadata": {},
   "source": [
    "## Author\n",
    "Massi"
   ]
  },
  {
   "cell_type": "code",
   "execution_count": null,
   "id": "7a35e303-aa77-4a02-a2bc-ab799100149e",
   "metadata": {},
   "outputs": [],
   "source": []
  }
 ],
 "metadata": {
  "kernelspec": {
   "display_name": "Python 3 (ipykernel)",
   "language": "python",
   "name": "python3"
  },
  "language_info": {
   "codemirror_mode": {
    "name": "ipython",
    "version": 3
   },
   "file_extension": ".py",
   "mimetype": "text/x-python",
   "name": "python",
   "nbconvert_exporter": "python",
   "pygments_lexer": "ipython3",
   "version": "3.11.7"
  }
 },
 "nbformat": 4,
 "nbformat_minor": 5
}
